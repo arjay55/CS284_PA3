{
  "nbformat": 4,
  "nbformat_minor": 0,
  "metadata": {
    "kernelspec": {
      "display_name": "Python 3",
      "language": "python",
      "name": "python3"
    },
    "language_info": {
      "codemirror_mode": {
        "name": "ipython",
        "version": 3
      },
      "file_extension": ".py",
      "mimetype": "text/x-python",
      "name": "python",
      "nbconvert_exporter": "python",
      "pygments_lexer": "ipython3",
      "version": "3.6.13"
    },
    "colab": {
      "name": "train_valid.ipynb",
      "provenance": [],
      "collapsed_sections": [],
      "include_colab_link": true
    }
  },
  "cells": [
    {
      "cell_type": "markdown",
      "metadata": {
        "id": "view-in-github",
        "colab_type": "text"
      },
      "source": [
        "<a href=\"https://colab.research.google.com/github/arjay55/CS284_PA3/blob/main/train_valid.ipynb\" target=\"_parent\"><img src=\"https://colab.research.google.com/assets/colab-badge.svg\" alt=\"Open In Colab\"/></a>"
      ]
    },
    {
      "cell_type": "code",
      "metadata": {
        "id": "dTLm1pMWboAW"
      },
      "source": [
        "%matplotlib inline"
      ],
      "execution_count": 1,
      "outputs": []
    },
    {
      "cell_type": "code",
      "metadata": {
        "colab": {
          "base_uri": "https://localhost:8080/"
        },
        "id": "zjAXxfL0hsSE",
        "outputId": "e46434f7-11e3-424f-8e39-821d99cbb2dc"
      },
      "source": [
        "from google.colab import drive\n",
        "drive.mount('/content/drive')\n"
      ],
      "execution_count": 2,
      "outputs": [
        {
          "output_type": "stream",
          "name": "stdout",
          "text": [
            "Mounted at /content/drive\n"
          ]
        }
      ]
    },
    {
      "cell_type": "code",
      "metadata": {
        "id": "9bamMuGFboAb",
        "colab": {
          "base_uri": "https://localhost:8080/"
        },
        "outputId": "6e31dc5f-b743-428c-b68a-c670472953cc"
      },
      "source": [
        "import torch\n",
        "import torchvision\n",
        "import torchvision.transforms as transforms\n",
        "import torch.nn as nn\n",
        "import torch.nn.functional as F\n",
        "import numpy as np\n",
        "import pickle\n",
        "from torch.utils.tensorboard import SummaryWriter\n",
        "import time\n",
        "\n",
        "from packaging import version\n",
        "import pandas as pd\n",
        "import tensorboard as tb\n",
        "%load_ext tensorboard"
      ],
      "execution_count": 4,
      "outputs": [
        {
          "output_type": "stream",
          "name": "stdout",
          "text": [
            "The tensorboard extension is already loaded. To reload it, use:\n",
            "  %reload_ext tensorboard\n"
          ]
        }
      ]
    },
    {
      "cell_type": "code",
      "metadata": {
        "id": "wWISoVx79HBJ"
      },
      "source": [
        "def backup(object, filename):\n",
        "    with open(filename, 'wb') as f:\n",
        "        pickle.dump(object, f, pickle.HIGHEST_PROTOCOL)\n",
        "\n",
        "def reload(persist):\n",
        "    with open(persist, 'rb') as f:\n",
        "        # The protocol version used is detected automatically, so we do not\n",
        "        # have to specify it.\n",
        "        data = pickle.load(f)\n",
        "    return data"
      ],
      "execution_count": 4,
      "outputs": []
    },
    {
      "cell_type": "code",
      "metadata": {
        "id": "oVMPTa9tkHWT"
      },
      "source": [
        "path = \"./drive/MyDrive/CS284/PA3/DATA\""
      ],
      "execution_count": 5,
      "outputs": []
    },
    {
      "cell_type": "code",
      "metadata": {
        "id": "PMDsMs6wi2Qa"
      },
      "source": [
        "class PerImageStandardization(object):\n",
        "      \"\"\"\n",
        "      per_image_whitening function equivalent in PyTorch\n",
        "      \"\"\"\n",
        "      def __call__(self, img):\n",
        "\n",
        "        adjusted_stddev = torch.max(torch.std(img), 1/torch.sqrt(torch.tensor(torch.numel(img))))\n",
        "\n",
        "        return (img-torch.mean(img))/adjusted_stddev\n",
        "        \n",
        "      def __repr__(self):\n",
        "        return self.__class__.__name__+'()' "
      ],
      "execution_count": 6,
      "outputs": []
    },
    {
      "cell_type": "code",
      "metadata": {
        "id": "YOHpFFdGj0xH",
        "colab": {
          "base_uri": "https://localhost:8080/"
        },
        "outputId": "97cbb6ba-1cf2-4f3d-b7d5-8621dc0e7a4f"
      },
      "source": [
        "transform = transforms.Compose(\n",
        "    [transforms.ToTensor(),\n",
        "     transforms.CenterCrop(size=28),\n",
        "     PerImageStandardization()])\n",
        "\n",
        "trainset = torchvision.datasets.CIFAR10(root=path, train=True,\n",
        "                                        download=True, transform=transform)"
      ],
      "execution_count": 7,
      "outputs": [
        {
          "output_type": "stream",
          "name": "stdout",
          "text": [
            "Files already downloaded and verified\n"
          ]
        }
      ]
    },
    {
      "cell_type": "code",
      "metadata": {
        "id": "dI4vrP1JkBbg",
        "colab": {
          "base_uri": "https://localhost:8080/"
        },
        "outputId": "c66ae92f-3968-4a6c-f81c-18301853cf42"
      },
      "source": [
        "trainset"
      ],
      "execution_count": 8,
      "outputs": [
        {
          "output_type": "execute_result",
          "data": {
            "text/plain": [
              "Dataset CIFAR10\n",
              "    Number of datapoints: 50000\n",
              "    Root location: ./drive/MyDrive/CS284/PA3/DATA\n",
              "    Split: Train\n",
              "    StandardTransform\n",
              "Transform: Compose(\n",
              "               ToTensor()\n",
              "               CenterCrop(size=(28, 28))\n",
              "               PerImageStandardization()\n",
              "           )"
            ]
          },
          "metadata": {},
          "execution_count": 8
        }
      ]
    },
    {
      "cell_type": "markdown",
      "metadata": {
        "id": "5ZdA6M1NboAc"
      },
      "source": [
        "The output of torchvision datasets are PILImage images of range [0, 1].\n",
        "We transform them to Tensors of normalized range [-1, 1].\n",
        "\n"
      ]
    },
    {
      "cell_type": "markdown",
      "metadata": {
        "id": "y-BHQP61boAc"
      },
      "source": [
        "<div class=\"alert alert-info\"><h4>Note</h4><p>If running on Windows and you get a BrokenPipeError, try setting\n",
        "    the num_worker of torch.utils.data.DataLoader() to 0.</p></div>\n",
        "\n"
      ]
    },
    {
      "cell_type": "code",
      "metadata": {
        "id": "pEU1bb6DboAc",
        "colab": {
          "base_uri": "https://localhost:8080/"
        },
        "outputId": "31811d12-51dd-4e7e-f4b8-8ab2eb228ae5"
      },
      "source": [
        "batch_size = 16\n",
        "\n",
        "trainloader = torch.utils.data.DataLoader(trainset, batch_size=batch_size,\n",
        "                                          shuffle=True, num_workers=2)\n",
        "\n",
        "testset = torchvision.datasets.CIFAR10(root=path, train=False,\n",
        "                                       download=True, transform=transform)\n",
        "testloader = torch.utils.data.DataLoader(testset, batch_size=batch_size,\n",
        "                                         shuffle=False, num_workers=2)\n",
        "\n",
        "classes = ('plane', 'car', 'bird', 'cat',\n",
        "           'deer', 'dog', 'frog', 'horse', 'ship', 'truck')"
      ],
      "execution_count": 9,
      "outputs": [
        {
          "output_type": "stream",
          "name": "stdout",
          "text": [
            "Files already downloaded and verified\n"
          ]
        }
      ]
    },
    {
      "cell_type": "markdown",
      "metadata": {
        "id": "kXbS7Z31boAd"
      },
      "source": [
        "Let us show some of the training images, for fun.\n",
        "\n"
      ]
    },
    {
      "cell_type": "markdown",
      "metadata": {
        "id": "0DpAUzTfboAe"
      },
      "source": [
        "2. Define a Convolutional Neural Network\n",
        "^^^^^^^^^^^^^^^^^^^^^^^^^^^^^^^^^^^^^^\n",
        "Copy the neural network from the Neural Networks section before and modify it to\n",
        "take 3-channel images (instead of 1-channel images as it was defined).\n",
        "\n"
      ]
    },
    {
      "cell_type": "code",
      "metadata": {
        "id": "WvA4NN3WboAf"
      },
      "source": [
        "\n",
        "class Conv(nn.Module):\n",
        "    def __init__(self, in_channels, out_channels, kernel_size, stride, padding=0):\n",
        "        super().__init__()\n",
        "\n",
        "        #accessible attributes\n",
        "        self.out_channels = out_channels\n",
        "        self.kernel_size = kernel_size\n",
        "        self.stride = stride\n",
        "\n",
        "        self.conv = nn.Conv2d(in_channels, out_channels, kernel_size, stride, padding, padding_mode='zeros')\n",
        "        self.batch = nn.BatchNorm2d(out_channels)\n",
        "\n",
        "    def forward(self, x):\n",
        "        x = self.conv(x)\n",
        "        x = F.relu(self.batch(x))\n",
        "\n",
        "        return x\n"
      ],
      "execution_count": 10,
      "outputs": []
    },
    {
      "cell_type": "code",
      "metadata": {
        "id": "_K7XfNZnJMgL"
      },
      "source": [
        "class Inception(nn.Module):\n",
        "    def __init__(self, in_channels, ch1, ch3):\n",
        "        super().__init__()\n",
        "\n",
        "        #accessible attributes\n",
        "        self.ch1 = ch1\n",
        "        self.ch3 = ch3\n",
        "\n",
        "        self.convch1 = Conv(in_channels, ch1, 1, 1)\n",
        "        self.convch3 = Conv(in_channels, ch3, 3, 1, 1)\n",
        "        \n",
        "    def forward(self, x):\n",
        "        ch1features = self.convch1(x)\n",
        "        ch3features = self.convch3(x)\n",
        "        x = torch.cat((ch1features,ch3features),1)\n",
        "        return x\n"
      ],
      "execution_count": 11,
      "outputs": []
    },
    {
      "cell_type": "code",
      "metadata": {
        "id": "J1hFJhywLoew"
      },
      "source": [
        "class Downsample(nn.Module):\n",
        "    def __init__(self, in_channels, ch3):\n",
        "        super().__init__()\n",
        "\n",
        "        #accessible attributes\n",
        "        self.ch3 = ch3\n",
        "\n",
        "        self.convch3 = Conv(in_channels, ch3, 3, 2)\n",
        "        self.maxpool = nn.MaxPool2d(3, 2)\n",
        "        \n",
        "    def forward(self, x):\n",
        "        ch3features = self.convch3(x)\n",
        "        x_maxpool = self.maxpool(x)\n",
        "        x = torch.cat((ch3features,x_maxpool),1)\n",
        "        return x\n"
      ],
      "execution_count": 12,
      "outputs": []
    },
    {
      "cell_type": "code",
      "metadata": {
        "id": "dH0Rp4JRf6kY"
      },
      "source": [
        "class MiniGoogleNet(nn.Module):\n",
        "    def __init__(self, in_channels):\n",
        "        super().__init__()\n",
        "        \n",
        "        self.dropoutval = 0.1\n",
        "\n",
        "        self.conv_in = Conv(in_channels, 96, 3, 1)\n",
        "\n",
        "        self.inception1a = Inception(96, 32, 32)\n",
        "        self.inception1b = Inception(64, 32, 48)\n",
        "        self.downsample1 = Downsample(32+48, 80)\n",
        "\n",
        "        self.inception2a = Inception(80+32+48, 112, 48)\n",
        "        self.inception2b = Inception(112+48, 96, 64)\n",
        "        self.inception2c = Inception(96+64, 80, 80)\n",
        "        self.inception2d = Inception(160, 48, 96)\n",
        "        self.downsample2 = Downsample(48+96, 96)\n",
        "\n",
        "        self.inception3a = Inception(48+96+96, 176, 160)\n",
        "        self.inception3b = Inception(176+160, 176, 160)       \n",
        "        self.meanpool = nn.AdaptiveAvgPool2d(1) #best fit reason\n",
        "        self.dropout = nn.Dropout(self.dropoutval)\n",
        "        self.fcout = nn.Linear(176+160, 10)\n",
        "\n",
        "    def forward(self, x):\n",
        "        x = self.conv_in(x)\n",
        "\n",
        "        x = self.inception1a(x)\n",
        "        x = self.inception1b(x)\n",
        "        x = self.downsample1(x)\n",
        "\n",
        "        x = self.inception2a(x)\n",
        "        x = self.inception2b(x)\n",
        "        x = self.inception2c(x)\n",
        "        x = self.inception2d(x)\n",
        "        x = self.downsample2(x)\n",
        "\n",
        "        x = self.inception3a(x)\n",
        "        x = self.inception3b(x)        \n",
        "        x = self.meanpool(x)\n",
        "        x = torch.flatten(x, 1)\n",
        "        x = self.dropout(x)\n",
        "        x = self.fcout(x)\n",
        "        return x\n"
      ],
      "execution_count": 13,
      "outputs": []
    },
    {
      "cell_type": "markdown",
      "metadata": {
        "id": "V8wJ_7cpboAg"
      },
      "source": [
        "3. Define a Loss function and optimizer\n",
        "^^^^^^^^^^^^^^^^^^^^^^^^^^^^^^^^^^^^^^^\n",
        "Let's use a Classification Cross-Entropy loss and SGD with momentum.\n",
        "\n"
      ]
    },
    {
      "cell_type": "code",
      "metadata": {
        "id": "p7JYZ9KuGLBg"
      },
      "source": [
        "net = MiniGoogleNet(3)\n",
        "net.dropoutval = 0.1\n"
      ],
      "execution_count": 14,
      "outputs": []
    },
    {
      "cell_type": "code",
      "metadata": {
        "id": "RfNRp2rzboAg",
        "colab": {
          "base_uri": "https://localhost:8080/"
        },
        "outputId": "75af5aaf-a053-4a81-b851-d3d52732e779"
      },
      "source": [
        "import torch.optim as optim\n",
        "\n",
        "criterion = nn.CrossEntropyLoss() # learn what is this.\n",
        "optimizer = optim.SGD(net.parameters(), lr=0.5, momentum=0.9)\n",
        "scheduler = optim.lr_scheduler.LinearLR(optimizer, start_factor=1, end_factor=0.01, total_iters=20, last_epoch=-1, verbose=True)"
      ],
      "execution_count": 15,
      "outputs": [
        {
          "output_type": "stream",
          "name": "stdout",
          "text": [
            "Adjusting learning rate of group 0 to 5.0000e-01.\n"
          ]
        }
      ]
    },
    {
      "cell_type": "code",
      "metadata": {
        "id": "8_eIPZRF3bFR",
        "colab": {
          "base_uri": "https://localhost:8080/"
        },
        "outputId": "7c94f594-20cb-41c2-9215-f1954cfa85f0"
      },
      "source": [
        "device = torch.device(\"cuda:0\" if torch.cuda.is_available() else \"cpu\")\n",
        "\n",
        "# Assuming that we are on a CUDA machine, this should print a CUDA device:\n",
        "\n",
        "print(device)\n",
        "\n",
        "net.to(device)"
      ],
      "execution_count": 16,
      "outputs": [
        {
          "output_type": "stream",
          "name": "stdout",
          "text": [
            "cuda:0\n"
          ]
        },
        {
          "output_type": "execute_result",
          "data": {
            "text/plain": [
              "MiniGoogleNet(\n",
              "  (conv_in): Conv(\n",
              "    (conv): Conv2d(3, 96, kernel_size=(3, 3), stride=(1, 1))\n",
              "    (batch): BatchNorm2d(96, eps=1e-05, momentum=0.1, affine=True, track_running_stats=True)\n",
              "  )\n",
              "  (inception1a): Inception(\n",
              "    (convch1): Conv(\n",
              "      (conv): Conv2d(96, 32, kernel_size=(1, 1), stride=(1, 1))\n",
              "      (batch): BatchNorm2d(32, eps=1e-05, momentum=0.1, affine=True, track_running_stats=True)\n",
              "    )\n",
              "    (convch3): Conv(\n",
              "      (conv): Conv2d(96, 32, kernel_size=(3, 3), stride=(1, 1), padding=(1, 1))\n",
              "      (batch): BatchNorm2d(32, eps=1e-05, momentum=0.1, affine=True, track_running_stats=True)\n",
              "    )\n",
              "  )\n",
              "  (inception1b): Inception(\n",
              "    (convch1): Conv(\n",
              "      (conv): Conv2d(64, 32, kernel_size=(1, 1), stride=(1, 1))\n",
              "      (batch): BatchNorm2d(32, eps=1e-05, momentum=0.1, affine=True, track_running_stats=True)\n",
              "    )\n",
              "    (convch3): Conv(\n",
              "      (conv): Conv2d(64, 48, kernel_size=(3, 3), stride=(1, 1), padding=(1, 1))\n",
              "      (batch): BatchNorm2d(48, eps=1e-05, momentum=0.1, affine=True, track_running_stats=True)\n",
              "    )\n",
              "  )\n",
              "  (downsample1): Downsample(\n",
              "    (convch3): Conv(\n",
              "      (conv): Conv2d(80, 80, kernel_size=(3, 3), stride=(2, 2))\n",
              "      (batch): BatchNorm2d(80, eps=1e-05, momentum=0.1, affine=True, track_running_stats=True)\n",
              "    )\n",
              "    (maxpool): MaxPool2d(kernel_size=3, stride=2, padding=0, dilation=1, ceil_mode=False)\n",
              "  )\n",
              "  (inception2a): Inception(\n",
              "    (convch1): Conv(\n",
              "      (conv): Conv2d(160, 112, kernel_size=(1, 1), stride=(1, 1))\n",
              "      (batch): BatchNorm2d(112, eps=1e-05, momentum=0.1, affine=True, track_running_stats=True)\n",
              "    )\n",
              "    (convch3): Conv(\n",
              "      (conv): Conv2d(160, 48, kernel_size=(3, 3), stride=(1, 1), padding=(1, 1))\n",
              "      (batch): BatchNorm2d(48, eps=1e-05, momentum=0.1, affine=True, track_running_stats=True)\n",
              "    )\n",
              "  )\n",
              "  (inception2b): Inception(\n",
              "    (convch1): Conv(\n",
              "      (conv): Conv2d(160, 96, kernel_size=(1, 1), stride=(1, 1))\n",
              "      (batch): BatchNorm2d(96, eps=1e-05, momentum=0.1, affine=True, track_running_stats=True)\n",
              "    )\n",
              "    (convch3): Conv(\n",
              "      (conv): Conv2d(160, 64, kernel_size=(3, 3), stride=(1, 1), padding=(1, 1))\n",
              "      (batch): BatchNorm2d(64, eps=1e-05, momentum=0.1, affine=True, track_running_stats=True)\n",
              "    )\n",
              "  )\n",
              "  (inception2c): Inception(\n",
              "    (convch1): Conv(\n",
              "      (conv): Conv2d(160, 80, kernel_size=(1, 1), stride=(1, 1))\n",
              "      (batch): BatchNorm2d(80, eps=1e-05, momentum=0.1, affine=True, track_running_stats=True)\n",
              "    )\n",
              "    (convch3): Conv(\n",
              "      (conv): Conv2d(160, 80, kernel_size=(3, 3), stride=(1, 1), padding=(1, 1))\n",
              "      (batch): BatchNorm2d(80, eps=1e-05, momentum=0.1, affine=True, track_running_stats=True)\n",
              "    )\n",
              "  )\n",
              "  (inception2d): Inception(\n",
              "    (convch1): Conv(\n",
              "      (conv): Conv2d(160, 48, kernel_size=(1, 1), stride=(1, 1))\n",
              "      (batch): BatchNorm2d(48, eps=1e-05, momentum=0.1, affine=True, track_running_stats=True)\n",
              "    )\n",
              "    (convch3): Conv(\n",
              "      (conv): Conv2d(160, 96, kernel_size=(3, 3), stride=(1, 1), padding=(1, 1))\n",
              "      (batch): BatchNorm2d(96, eps=1e-05, momentum=0.1, affine=True, track_running_stats=True)\n",
              "    )\n",
              "  )\n",
              "  (downsample2): Downsample(\n",
              "    (convch3): Conv(\n",
              "      (conv): Conv2d(144, 96, kernel_size=(3, 3), stride=(2, 2))\n",
              "      (batch): BatchNorm2d(96, eps=1e-05, momentum=0.1, affine=True, track_running_stats=True)\n",
              "    )\n",
              "    (maxpool): MaxPool2d(kernel_size=3, stride=2, padding=0, dilation=1, ceil_mode=False)\n",
              "  )\n",
              "  (inception3a): Inception(\n",
              "    (convch1): Conv(\n",
              "      (conv): Conv2d(240, 176, kernel_size=(1, 1), stride=(1, 1))\n",
              "      (batch): BatchNorm2d(176, eps=1e-05, momentum=0.1, affine=True, track_running_stats=True)\n",
              "    )\n",
              "    (convch3): Conv(\n",
              "      (conv): Conv2d(240, 160, kernel_size=(3, 3), stride=(1, 1), padding=(1, 1))\n",
              "      (batch): BatchNorm2d(160, eps=1e-05, momentum=0.1, affine=True, track_running_stats=True)\n",
              "    )\n",
              "  )\n",
              "  (inception3b): Inception(\n",
              "    (convch1): Conv(\n",
              "      (conv): Conv2d(336, 176, kernel_size=(1, 1), stride=(1, 1))\n",
              "      (batch): BatchNorm2d(176, eps=1e-05, momentum=0.1, affine=True, track_running_stats=True)\n",
              "    )\n",
              "    (convch3): Conv(\n",
              "      (conv): Conv2d(336, 160, kernel_size=(3, 3), stride=(1, 1), padding=(1, 1))\n",
              "      (batch): BatchNorm2d(160, eps=1e-05, momentum=0.1, affine=True, track_running_stats=True)\n",
              "    )\n",
              "  )\n",
              "  (meanpool): AdaptiveAvgPool2d(output_size=1)\n",
              "  (dropout): Dropout(p=0.1, inplace=False)\n",
              "  (fcout): Linear(in_features=336, out_features=10, bias=True)\n",
              ")"
            ]
          },
          "metadata": {},
          "execution_count": 16
        }
      ]
    },
    {
      "cell_type": "code",
      "metadata": {
        "id": "GAL14rKS7hxp"
      },
      "source": [
        "writer = SummaryWriter(log_dir = \"./drive/MyDrive/CS284/PA3/\", comment=\"Dropout_0p1\")"
      ],
      "execution_count": 17,
      "outputs": []
    },
    {
      "cell_type": "code",
      "metadata": {
        "id": "4xpWNUWs0KPN"
      },
      "source": [
        "%tensorboard --logdir \"./drive/MyDrive/CS284/PA3/\""
      ],
      "execution_count": null,
      "outputs": []
    },
    {
      "cell_type": "markdown",
      "metadata": {
        "id": "lKQjRT4AboAg"
      },
      "source": [
        "4. Train the network\n",
        "^^^^^^^^^^^^^^^^^^^^\n",
        "\n",
        "This is when things start to get interesting.\n",
        "We simply have to loop over our data iterator, and feed the inputs to the\n",
        "network and optimize.\n",
        "\n"
      ]
    },
    {
      "cell_type": "code",
      "metadata": {
        "id": "HRwzet2zboAh",
        "colab": {
          "base_uri": "https://localhost:8080/"
        },
        "outputId": "42631983-a039-49fc-ed9c-5be041b9b868"
      },
      "source": [
        "interval = 600\n",
        "start_loss = 10\n",
        "PATH = './drive/MyDrive/CS284/PA3/cifar_net_dropout_0p1.pth'\n",
        "\n",
        "for epoch in range(80):  # loop over the dataset multiple times\n",
        "\n",
        "    running_loss = 0.0\n",
        "    for i, data in enumerate(trainloader, 0):\n",
        "        # get the inputs; data is a list of [inputs, labels]\n",
        "        inputs, labels = data[0].to(device), data[1].to(device)\n",
        "\n",
        "        # zero the parameter gradients\n",
        "        optimizer.zero_grad()\n",
        "\n",
        "        # forward + backward + optimize\n",
        "\n",
        "        outputs = net(inputs)\n",
        "        loss = criterion(outputs, labels)\n",
        "        loss.backward()\n",
        "        optimizer.step()\n",
        "        # print statistics\n",
        "        running_loss += loss.item()\n",
        "        \n",
        "        if i % interval == interval-1:    # print every 2000 mini-batches\n",
        "            print('[%d, %5d] loss: %.3f' %\n",
        "                  (epoch + 1, i + 1, running_loss / interval))\n",
        "            writer.add_scalar(\"Loss/train\", running_loss / interval, epoch+1, time.time())\n",
        "            running_loss = 0.0\n",
        "            \n",
        "            torch.save(net.state_dict(), './drive/MyDrive/CS284/PA3/cifar_net_dropout_0p1_latest.pth')\n",
        "\n",
        "    scheduler.step()\n",
        "    #do validation on every epoch\n",
        "\n",
        "    correct = 0\n",
        "    total = 0\n",
        "    # since we're not training, we don't need to calculate the gradients for our outputs\n",
        "    with torch.no_grad():\n",
        "        for data in testloader:\n",
        "            images, labels = data[0].to(device), data[1].to(device)\n",
        "            # images, labels = data\n",
        "            # calculate outputs by running images through the network \n",
        "            outputs = net(images)\n",
        "            # the class with the highest energy is what we choose as prediction\n",
        "            _, predicted = torch.max(outputs.data, 1)\n",
        "            total += labels.size(0)\n",
        "            correct += (predicted == labels).sum().item()\n",
        "\n",
        "    print('Accuracy of the network on the 10000 test images: %d %%' % (\n",
        "        100 * correct / total))\n",
        "    writer.add_scalar(\"Accuracy/validation\", correct / total, epoch+1)\n",
        "    loss = criterion(outputs, labels)\n",
        "    if loss.item <= start_loss:\n",
        "        torch.save(net.state_dict(), PATH)\n",
        "    writer.add_scalar(\"Loss/validation\", loss.item(), epoch+1)\n",
        "    \n",
        "writer.flush()\n",
        "print('Finished Training')"
      ],
      "execution_count": 18,
      "outputs": [
        {
          "output_type": "stream",
          "name": "stdout",
          "text": [
            "[1,   600] loss: 2.372\n",
            "[1,  1200] loss: 2.221\n",
            "[1,  1800] loss: 2.188\n",
            "[1,  2400] loss: 2.158\n",
            "[1,  3000] loss: 2.149\n",
            "Adjusting learning rate of group 0 to 4.7525e-01.\n",
            "[2,   600] loss: 2.133\n",
            "[2,  1200] loss: 2.098\n",
            "[2,  1800] loss: 2.082\n",
            "[2,  2400] loss: 2.077\n",
            "[2,  3000] loss: 2.058\n",
            "Adjusting learning rate of group 0 to 4.5050e-01.\n",
            "[3,   600] loss: 1.998\n",
            "[3,  1200] loss: 1.973\n",
            "[3,  1800] loss: 1.920\n",
            "[3,  2400] loss: 1.864\n",
            "[3,  3000] loss: 1.779\n",
            "Adjusting learning rate of group 0 to 4.2575e-01.\n",
            "[4,   600] loss: 1.708\n",
            "[4,  1200] loss: 1.684\n",
            "[4,  1800] loss: 1.632\n",
            "[4,  2400] loss: 1.604\n",
            "[4,  3000] loss: 1.525\n",
            "Adjusting learning rate of group 0 to 4.0100e-01.\n",
            "[5,   600] loss: 1.441\n",
            "[5,  1200] loss: 1.391\n",
            "[5,  1800] loss: 1.329\n",
            "[5,  2400] loss: 1.314\n",
            "[5,  3000] loss: 1.251\n",
            "Adjusting learning rate of group 0 to 3.7625e-01.\n",
            "[6,   600] loss: 1.168\n",
            "[6,  1200] loss: 1.152\n",
            "[6,  1800] loss: 1.158\n",
            "[6,  2400] loss: 1.112\n",
            "[6,  3000] loss: 1.078\n",
            "Adjusting learning rate of group 0 to 3.5150e-01.\n",
            "[7,   600] loss: 1.012\n",
            "[7,  1200] loss: 0.985\n",
            "[7,  1800] loss: 0.975\n",
            "[7,  2400] loss: 0.959\n",
            "[7,  3000] loss: 1.013\n",
            "Adjusting learning rate of group 0 to 3.2675e-01.\n",
            "[8,   600] loss: 0.880\n",
            "[8,  1200] loss: 0.867\n",
            "[8,  1800] loss: 0.860\n",
            "[8,  2400] loss: 0.864\n",
            "[8,  3000] loss: 0.854\n",
            "Adjusting learning rate of group 0 to 3.0200e-01.\n",
            "[9,   600] loss: 0.763\n",
            "[9,  1200] loss: 0.781\n",
            "[9,  1800] loss: 0.771\n",
            "[9,  2400] loss: 0.768\n",
            "[9,  3000] loss: 0.774\n",
            "Adjusting learning rate of group 0 to 2.7725e-01.\n",
            "[10,   600] loss: 0.698\n",
            "[10,  1200] loss: 0.690\n",
            "[10,  1800] loss: 0.694\n",
            "[10,  2400] loss: 0.688\n",
            "[10,  3000] loss: 0.701\n",
            "Adjusting learning rate of group 0 to 2.5250e-01.\n",
            "Finished Training\n"
          ]
        }
      ]
    },
    {
      "cell_type": "markdown",
      "metadata": {
        "id": "GiuTIxjSboAh"
      },
      "source": [
        "Let's quickly save our trained model:\n",
        "\n"
      ]
    },
    {
      "cell_type": "code",
      "metadata": {
        "id": "JXhQ5CTB-kO_",
        "colab": {
          "base_uri": "https://localhost:8080/",
          "height": 171
        },
        "outputId": "ed323478-7bb4-4c9a-bd7b-842df18ccaa0"
      },
      "source": [
        "import matplotlib.pyplot as plt\n",
        "import numpy as np\n",
        "\n",
        "# functions to show an image\n",
        "\n",
        "\n",
        "def imshow(img):\n",
        "    img = img / 2 + 0.5     # unnormalize\n",
        "    npimg = img.numpy()\n",
        "    plt.imshow(np.transpose(npimg, (1, 2, 0)))\n",
        "    plt.show()\n",
        "\n",
        "dataiter = iter(testloader)\n",
        "images, labels = dataiter.next()\n",
        "\n",
        "# print images\n",
        "imshow(torchvision.utils.make_grid(images))\n",
        "print('GroundTruth: ', ' '.join('%5s' % classes[labels[j]] for j in range(4)))"
      ],
      "execution_count": 25,
      "outputs": [
        {
          "output_type": "stream",
          "name": "stderr",
          "text": [
            "Clipping input data to the valid range for imshow with RGB data ([0..1] for floats or [0..255] for integers).\n"
          ]
        },
        {
          "output_type": "display_data",
          "data": {
            "image/png": "[encoded data removed]",
            "text/plain": [
              "<Figure size 432x288 with 1 Axes>"
            ]
          },
          "metadata": {
            "needs_background": "light"
          }
        },
        {
          "output_type": "stream",
          "name": "stdout",
          "text": [
            "GroundTruth:    cat  ship  ship plane\n"
          ]
        }
      ]
    },
    {
      "cell_type": "markdown",
      "metadata": {
        "id": "rK274JVbboAh"
      },
      "source": [
        "See `here <https://pytorch.org/docs/stable/notes/serialization.html>`_\n",
        "for more details on saving PyTorch models.\n",
        "\n",
        "5. Test the network on the test data\n",
        "^^^^^^^^^^^^^^^^^^^^^^^^^^^^^^^^^^^^\n",
        "\n",
        "We have trained the network for 2 passes over the training dataset.\n",
        "But we need to check if the network has learnt anything at all.\n",
        "\n",
        "We will check this by predicting the class label that the neural network\n",
        "outputs, and checking it against the ground-truth. If the prediction is\n",
        "correct, we add the sample to the list of correct predictions.\n",
        "\n",
        "Okay, first step. Let us display an image from the test set to get familiar.\n",
        "\n"
      ]
    },
    {
      "cell_type": "markdown",
      "metadata": {
        "id": "boG1a_zQboAi"
      },
      "source": [
        "Next, let's load back in our saved model (note: saving and re-loading the model\n",
        "wasn't necessary here, we only did it to illustrate how to do so):\n",
        "\n"
      ]
    },
    {
      "cell_type": "code",
      "metadata": {
        "id": "rK7gyi8bboAi",
        "colab": {
          "base_uri": "https://localhost:8080/"
        },
        "outputId": "42380076-da6e-42e8-c294-3b69f5039bfa"
      },
      "source": [
        "net = MiniGoogleNet(3)\n",
        "net.load_state_dict(torch.load(PATH))\n",
        "net.to(device)"
      ],
      "execution_count": 30,
      "outputs": [
        {
          "output_type": "execute_result",
          "data": {
            "text/plain": [
              "MiniGoogleNet(\n",
              "  (conv_in): Conv(\n",
              "    (conv): Conv2d(3, 96, kernel_size=(3, 3), stride=(1, 1))\n",
              "    (batch): BatchNorm2d(96, eps=1e-05, momentum=0.1, affine=True, track_running_stats=True)\n",
              "  )\n",
              "  (inception1a): Inception(\n",
              "    (convch1): Conv(\n",
              "      (conv): Conv2d(96, 32, kernel_size=(1, 1), stride=(1, 1))\n",
              "      (batch): BatchNorm2d(32, eps=1e-05, momentum=0.1, affine=True, track_running_stats=True)\n",
              "    )\n",
              "    (convch3): Conv(\n",
              "      (conv): Conv2d(96, 32, kernel_size=(3, 3), stride=(1, 1), padding=(1, 1))\n",
              "      (batch): BatchNorm2d(32, eps=1e-05, momentum=0.1, affine=True, track_running_stats=True)\n",
              "    )\n",
              "  )\n",
              "  (inception1b): Inception(\n",
              "    (convch1): Conv(\n",
              "      (conv): Conv2d(64, 32, kernel_size=(1, 1), stride=(1, 1))\n",
              "      (batch): BatchNorm2d(32, eps=1e-05, momentum=0.1, affine=True, track_running_stats=True)\n",
              "    )\n",
              "    (convch3): Conv(\n",
              "      (conv): Conv2d(64, 48, kernel_size=(3, 3), stride=(1, 1), padding=(1, 1))\n",
              "      (batch): BatchNorm2d(48, eps=1e-05, momentum=0.1, affine=True, track_running_stats=True)\n",
              "    )\n",
              "  )\n",
              "  (downsample1): Downsample(\n",
              "    (convch3): Conv(\n",
              "      (conv): Conv2d(80, 80, kernel_size=(3, 3), stride=(2, 2))\n",
              "      (batch): BatchNorm2d(80, eps=1e-05, momentum=0.1, affine=True, track_running_stats=True)\n",
              "    )\n",
              "    (maxpool): MaxPool2d(kernel_size=3, stride=2, padding=0, dilation=1, ceil_mode=False)\n",
              "  )\n",
              "  (inception2a): Inception(\n",
              "    (convch1): Conv(\n",
              "      (conv): Conv2d(160, 112, kernel_size=(1, 1), stride=(1, 1))\n",
              "      (batch): BatchNorm2d(112, eps=1e-05, momentum=0.1, affine=True, track_running_stats=True)\n",
              "    )\n",
              "    (convch3): Conv(\n",
              "      (conv): Conv2d(160, 48, kernel_size=(3, 3), stride=(1, 1), padding=(1, 1))\n",
              "      (batch): BatchNorm2d(48, eps=1e-05, momentum=0.1, affine=True, track_running_stats=True)\n",
              "    )\n",
              "  )\n",
              "  (inception2b): Inception(\n",
              "    (convch1): Conv(\n",
              "      (conv): Conv2d(160, 96, kernel_size=(1, 1), stride=(1, 1))\n",
              "      (batch): BatchNorm2d(96, eps=1e-05, momentum=0.1, affine=True, track_running_stats=True)\n",
              "    )\n",
              "    (convch3): Conv(\n",
              "      (conv): Conv2d(160, 64, kernel_size=(3, 3), stride=(1, 1), padding=(1, 1))\n",
              "      (batch): BatchNorm2d(64, eps=1e-05, momentum=0.1, affine=True, track_running_stats=True)\n",
              "    )\n",
              "  )\n",
              "  (inception2c): Inception(\n",
              "    (convch1): Conv(\n",
              "      (conv): Conv2d(160, 80, kernel_size=(1, 1), stride=(1, 1))\n",
              "      (batch): BatchNorm2d(80, eps=1e-05, momentum=0.1, affine=True, track_running_stats=True)\n",
              "    )\n",
              "    (convch3): Conv(\n",
              "      (conv): Conv2d(160, 80, kernel_size=(3, 3), stride=(1, 1), padding=(1, 1))\n",
              "      (batch): BatchNorm2d(80, eps=1e-05, momentum=0.1, affine=True, track_running_stats=True)\n",
              "    )\n",
              "  )\n",
              "  (inception2d): Inception(\n",
              "    (convch1): Conv(\n",
              "      (conv): Conv2d(160, 48, kernel_size=(1, 1), stride=(1, 1))\n",
              "      (batch): BatchNorm2d(48, eps=1e-05, momentum=0.1, affine=True, track_running_stats=True)\n",
              "    )\n",
              "    (convch3): Conv(\n",
              "      (conv): Conv2d(160, 96, kernel_size=(3, 3), stride=(1, 1), padding=(1, 1))\n",
              "      (batch): BatchNorm2d(96, eps=1e-05, momentum=0.1, affine=True, track_running_stats=True)\n",
              "    )\n",
              "  )\n",
              "  (downsample2): Downsample(\n",
              "    (convch3): Conv(\n",
              "      (conv): Conv2d(144, 96, kernel_size=(3, 3), stride=(2, 2))\n",
              "      (batch): BatchNorm2d(96, eps=1e-05, momentum=0.1, affine=True, track_running_stats=True)\n",
              "    )\n",
              "    (maxpool): MaxPool2d(kernel_size=3, stride=2, padding=0, dilation=1, ceil_mode=False)\n",
              "  )\n",
              "  (inception3a): Inception(\n",
              "    (convch1): Conv(\n",
              "      (conv): Conv2d(240, 176, kernel_size=(1, 1), stride=(1, 1))\n",
              "      (batch): BatchNorm2d(176, eps=1e-05, momentum=0.1, affine=True, track_running_stats=True)\n",
              "    )\n",
              "    (convch3): Conv(\n",
              "      (conv): Conv2d(240, 160, kernel_size=(3, 3), stride=(1, 1), padding=(1, 1))\n",
              "      (batch): BatchNorm2d(160, eps=1e-05, momentum=0.1, affine=True, track_running_stats=True)\n",
              "    )\n",
              "  )\n",
              "  (inception3b): Inception(\n",
              "    (convch1): Conv(\n",
              "      (conv): Conv2d(336, 176, kernel_size=(1, 1), stride=(1, 1))\n",
              "      (batch): BatchNorm2d(176, eps=1e-05, momentum=0.1, affine=True, track_running_stats=True)\n",
              "    )\n",
              "    (convch3): Conv(\n",
              "      (conv): Conv2d(336, 160, kernel_size=(3, 3), stride=(1, 1), padding=(1, 1))\n",
              "      (batch): BatchNorm2d(160, eps=1e-05, momentum=0.1, affine=True, track_running_stats=True)\n",
              "    )\n",
              "  )\n",
              "  (meanpool): AdaptiveAvgPool2d(output_size=1)\n",
              "  (dropout): Dropout(p=0.1, inplace=False)\n",
              "  (fcout): Linear(in_features=336, out_features=10, bias=True)\n",
              ")"
            ]
          },
          "metadata": {},
          "execution_count": 30
        }
      ]
    },
    {
      "cell_type": "markdown",
      "metadata": {
        "id": "ixesBHpKboAi"
      },
      "source": [
        "Okay, now let us see what the neural network thinks these examples above are:\n",
        "\n"
      ]
    },
    {
      "cell_type": "markdown",
      "metadata": {
        "id": "uYjbKk-9boAj"
      },
      "source": [
        "The outputs are energies for the 10 classes.\n",
        "The higher the energy for a class, the more the network\n",
        "thinks that the image is of the particular class.\n",
        "So, let's get the index of the highest energy:\n",
        "\n"
      ]
    },
    {
      "cell_type": "markdown",
      "metadata": {
        "id": "rlL6ZMdsboAj"
      },
      "source": [
        "The results seem pretty good.\n",
        "\n",
        "Let us look at how the network performs on the whole dataset.\n",
        "\n"
      ]
    },
    {
      "cell_type": "code",
      "metadata": {
        "id": "1OtXO1YeboAj",
        "colab": {
          "base_uri": "https://localhost:8080/"
        },
        "outputId": "0d50d96d-e951-4d69-8a4a-f89e712239cf"
      },
      "source": [
        "correct = 0\n",
        "total = 0\n",
        "# since we're not training, we don't need to calculate the gradients for our outputs\n",
        "with torch.no_grad():\n",
        "    for data in testloader:\n",
        "        images, labels = data[0].to(device), data[1].to(device)\n",
        "        # images, labels = data\n",
        "        # calculate outputs by running images through the network \n",
        "        outputs = net(images)\n",
        "        # the class with the highest energy is what we choose as prediction\n",
        "        _, predicted = torch.max(outputs.data, 1)\n",
        "        total += labels.size(0)\n",
        "        correct += (predicted == labels).sum().item()\n",
        "\n",
        "print('Accuracy of the network on the 10000 test images: %d %%' % (\n",
        "    100 * correct / total))"
      ],
      "execution_count": 31,
      "outputs": [
        {
          "output_type": "stream",
          "name": "stdout",
          "text": [
            "Accuracy of the network on the 10000 test images: 81 %\n"
          ]
        }
      ]
    },
    {
      "cell_type": "markdown",
      "metadata": {
        "id": "thg5WYifboAj"
      },
      "source": [
        "That looks way better than chance, which is 10% accuracy (randomly picking\n",
        "a class out of 10 classes).\n",
        "Seems like the network learnt something.\n",
        "\n",
        "Hmmm, what are the classes that performed well, and the classes that did\n",
        "not perform well:\n",
        "\n"
      ]
    },
    {
      "cell_type": "code",
      "metadata": {
        "id": "ouFRErHjboAk",
        "colab": {
          "base_uri": "https://localhost:8080/"
        },
        "outputId": "d77fea35-19b7-44e2-cade-484d7f62be63"
      },
      "source": [
        "# prepare to count predictions for each class\n",
        "correct_pred = {classname: 0 for classname in classes}\n",
        "total_pred = {classname: 0 for classname in classes}\n",
        "\n",
        "# again no gradients needed\n",
        "with torch.no_grad():\n",
        "    for data in testloader:\n",
        "        # images, labels = data    \n",
        "        images, labels = data[0].to(device), data[1].to(device)\n",
        "        outputs = net(images)    \n",
        "        _, predictions = torch.max(outputs, 1)\n",
        "        # collect the correct predictions for each class\n",
        "        for label, prediction in zip(labels, predictions):\n",
        "            if label == prediction:\n",
        "                correct_pred[classes[label]] += 1\n",
        "            total_pred[classes[label]] += 1\n",
        "\n",
        "  \n",
        "# print accuracy for each class\n",
        "for classname, correct_count in correct_pred.items():\n",
        "    accuracy = 100 * float(correct_count) / total_pred[classname]\n",
        "    print(\"Accuracy for class {:5s} is: {:.1f} %\".format(classname, \n",
        "                                                   accuracy))"
      ],
      "execution_count": 32,
      "outputs": [
        {
          "output_type": "stream",
          "name": "stdout",
          "text": [
            "Accuracy for class plane is: 80.2 %\n",
            "Accuracy for class car   is: 90.7 %\n",
            "Accuracy for class bird  is: 72.7 %\n",
            "Accuracy for class cat   is: 61.1 %\n",
            "Accuracy for class deer  is: 83.8 %\n",
            "Accuracy for class dog   is: 76.7 %\n",
            "Accuracy for class frog  is: 86.4 %\n",
            "Accuracy for class horse is: 81.8 %\n",
            "Accuracy for class ship  is: 91.3 %\n",
            "Accuracy for class truck is: 87.3 %\n"
          ]
        }
      ]
    },
    {
      "cell_type": "markdown",
      "metadata": {
        "id": "YuOByy3lboAk"
      },
      "source": [
        "Okay, so what next?\n",
        "\n",
        "How do we run these neural networks on the GPU?\n",
        "\n",
        "Training on GPU\n",
        "----------------\n",
        "Just like how you transfer a Tensor onto the GPU, you transfer the neural\n",
        "net onto the GPU.\n",
        "\n",
        "Let's first define our device as the first visible cuda device if we have\n",
        "CUDA available:\n",
        "\n"
      ]
    },
    {
      "cell_type": "code",
      "metadata": {
        "id": "LATv-TFHboAk",
        "colab": {
          "base_uri": "https://localhost:8080/"
        },
        "outputId": "ebc8561a-04ec-43a4-9838-3835a2ef97aa"
      },
      "source": [
        "device = torch.device(\"cuda:0\" if torch.cuda.is_available() else \"cpu\")\n",
        "\n",
        "# Assuming that we are on a CUDA machine, this should print a CUDA device:\n",
        "\n",
        "print(device)"
      ],
      "execution_count": 33,
      "outputs": [
        {
          "output_type": "stream",
          "name": "stdout",
          "text": [
            "cuda:0\n"
          ]
        }
      ]
    },
    {
      "cell_type": "markdown",
      "metadata": {
        "id": "aDJCFShHboAk"
      },
      "source": [
        "The rest of this section assumes that ``device`` is a CUDA device.\n",
        "\n",
        "Then these methods will recursively go over all modules and convert their\n",
        "parameters and buffers to CUDA tensors:\n",
        "\n",
        ".. code:: python\n",
        "\n",
        "    net.to(device)\n",
        "\n",
        "\n",
        "Remember that you will have to send the inputs and targets at every step\n",
        "to the GPU too:\n",
        "\n",
        ".. code:: python\n",
        "\n",
        "        inputs, labels = data[0].to(device), data[1].to(device)\n",
        "\n",
        "Why don't I notice MASSIVE speedup compared to CPU? Because your network\n",
        "is really small.\n",
        "\n",
        "**Exercise:** Try increasing the width of your network (argument 2 of\n",
        "the first ``nn.Conv2d``, and argument 1 of the second ``nn.Conv2d`` –\n",
        "they need to be the same number), see what kind of speedup you get.\n",
        "\n",
        "**Goals achieved**:\n",
        "\n",
        "- Understanding PyTorch's Tensor library and neural networks at a high level.\n",
        "- Train a small neural network to classify images\n",
        "\n",
        "Training on multiple GPUs\n",
        "-------------------------\n",
        "If you want to see even more MASSIVE speedup using all of your GPUs,\n",
        "please check out :doc:`data_parallel_tutorial`.\n",
        "\n",
        "Where do I go next?\n",
        "-------------------\n",
        "\n",
        "-  :doc:`Train neural nets to play video games </intermediate/reinforcement_q_learning>`\n",
        "-  `Train a state-of-the-art ResNet network on imagenet`_\n",
        "-  `Train a face generator using Generative Adversarial Networks`_\n",
        "-  `Train a word-level language model using Recurrent LSTM networks`_\n",
        "-  `More examples`_\n",
        "-  `More tutorials`_\n",
        "-  `Discuss PyTorch on the Forums`_\n",
        "-  `Chat with other users on Slack`_\n",
        "\n",
        "\n"
      ]
    },
    {
      "cell_type": "code",
      "metadata": {
        "id": "ks4BJfFXboAk"
      },
      "source": [
        ""
      ],
      "execution_count": 33,
      "outputs": []
    }
  ]
}