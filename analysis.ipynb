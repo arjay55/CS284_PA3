{
  "cells": [
    {
      "cell_type": "markdown",
      "metadata": {
        "colab_type": "text",
        "id": "view-in-github"
      },
      "source": [
        "<a href=\"https://colab.research.google.com/github/arjay55/CS284_PA3/blob/main/train_valid.ipynb\" target=\"_parent\"><img src=\"https://colab.research.google.com/assets/colab-badge.svg\" alt=\"Open In Colab\"/></a>"
      ]
    },
    {
      "cell_type": "code",
      "execution_count": null,
      "metadata": {
        "id": "dTLm1pMWboAW"
      },
      "outputs": [],
      "source": [
        "%matplotlib inline"
      ]
    },
    {
      "cell_type": "code",
      "execution_count": null,
      "metadata": {
        "id": "9bamMuGFboAb"
      },
      "outputs": [],
      "source": [
        "import torch\n",
        "import torchvision\n",
        "import torchvision.transforms as transforms\n",
        "import torch.nn as nn\n",
        "import torch.nn.functional as F\n",
        "import numpy as np\n",
        "import pickle\n",
        "from torch.utils.tensorboard import SummaryWriter\n",
        "import time\n",
        "\n",
        "from packaging import version\n",
        "import pandas as pd\n",
        "import seaborn as sns\n",
        "from matplotlib import pyplot as plt\n",
        "import tensorboard as tb\n",
        "import cf_matrix\n",
        "from sklearn.metrics import *"
      ]
    },
    {
      "cell_type": "code",
      "execution_count": null,
      "metadata": {},
      "outputs": [],
      "source": [
        "#process run metrics\n",
        "major_ver, minor_ver, _ = version.parse(tb.__version__).release\n",
        "assert major_ver >= 2 and minor_ver >= 3, \\\n",
        "    \"This notebook requires TensorBoard 2.3 or later.\"\n",
        "print(\"TensorBoard version: \", tb.__version__)"
      ]
    },
    {
      "cell_type": "code",
      "execution_count": null,
      "metadata": {},
      "outputs": [],
      "source": [
        "# experiment_id = \"XNEYoN6LSrOzHp8N9cM8Jw\"\n",
        "# experiment = tb.data.experimental.ExperimentFromDev(experiment_id)\n",
        "# df = experiment.get_scalars()\n",
        "# df.to_pickle(\"run_metrics.pickle\")\n"
      ]
    },
    {
      "cell_type": "code",
      "execution_count": null,
      "metadata": {},
      "outputs": [],
      "source": [
        "dfacc = df[df['tag'].str.endswith(\"cy/validation\")].pivot(index=\"step\", columns=\"run\", values=\"value\")\n",
        "#select only needed columns"
      ]
    },
    {
      "cell_type": "code",
      "execution_count": null,
      "metadata": {},
      "outputs": [],
      "source": [
        "dfacc = dfacc.iloc[:,[6,5,0,1,2,3]]"
      ]
    },
    {
      "cell_type": "code",
      "execution_count": null,
      "metadata": {},
      "outputs": [],
      "source": [
        "dfacc.columns = ['d=0','d=0.1','d=0.3','d=0.5','d=0.7','d=0.9']"
      ]
    },
    {
      "cell_type": "code",
      "execution_count": null,
      "metadata": {},
      "outputs": [],
      "source": [
        "sns.set_theme()\n",
        "g=sns.relplot(kind=\"line\",data=dfacc,height=5,aspect=1.5)\n",
        "g.set(xlabel=\"epochs\", ylabel = \"accuracy\")\n",
        "g.savefig(\"acc.pdf\")"
      ]
    },
    {
      "cell_type": "code",
      "execution_count": null,
      "metadata": {},
      "outputs": [],
      "source": [
        "dflossvalid = df[df['tag'].str.endswith(\"Loss/validation\")].pivot(index=\"step\", columns=\"run\", values=\"value\")\n",
        "dflossvalid = dflossvalid.iloc[:,[6,5,0,1,2,3]]\n",
        "dflossvalid.columns = ['d=0','d=0.1','d=0.3','d=0.5','d=0.7','d=0.9']"
      ]
    },
    {
      "cell_type": "code",
      "execution_count": null,
      "metadata": {},
      "outputs": [],
      "source": [
        "g=sns.relplot(kind=\"line\",data=dflossvalid,height=5,aspect=1.5)\n",
        "g.set(xlabel=\"epochs\", ylabel = \"validation loss\")\n",
        "g.savefig(\"validloss.pdf\")"
      ]
    },
    {
      "cell_type": "code",
      "execution_count": null,
      "metadata": {},
      "outputs": [],
      "source": [
        "dflosstrain = df[df['tag'].str.endswith(\"ss/train\")].pivot(index=\"step\", columns=\"run\", values=\"value\")\n",
        "dflosstrain = dflosstrain.iloc[:,[6,5,0,1,2,3]]\n",
        "dflosstrain.columns = ['d=0','d=0.1','d=0.3','d=0.5','d=0.7','d=0.9']"
      ]
    },
    {
      "cell_type": "code",
      "execution_count": null,
      "metadata": {},
      "outputs": [],
      "source": [
        "dflosstrain['newindex'] = dflosstrain.index.values/5"
      ]
    },
    {
      "cell_type": "code",
      "execution_count": null,
      "metadata": {},
      "outputs": [],
      "source": [
        "dflosstrain.set_index(\"newindex\",inplace=True)"
      ]
    },
    {
      "cell_type": "code",
      "execution_count": null,
      "metadata": {},
      "outputs": [],
      "source": [
        "g=sns.relplot(kind=\"line\",data=dflosstrain,height=5,aspect=1.5)\n",
        "g.set(xlabel=\"epochs\", ylabel = \"train loss\")\n",
        "g.savefig(\"train.pdf\")"
      ]
    },
    {
      "cell_type": "code",
      "execution_count": null,
      "metadata": {},
      "outputs": [],
      "source": [
        "df = pd.DataFrame({'dropout':['d=0', 'd=0.1', 'd=0.3','d=0.5', 'd=0.7', 'd=0.9'], 'runtime(minutes)':[179, 175, 251, 251, 251, 251]})\n",
        "ax = df.plot.bar(x='dropout', y='runtime(minutes)', rot=0)"
      ]
    },
    {
      "cell_type": "code",
      "execution_count": null,
      "metadata": {
        "id": "wWISoVx79HBJ"
      },
      "outputs": [],
      "source": [
        "def backup(object, filename):\n",
        "    with open(filename, 'wb') as f:\n",
        "        pickle.dump(object, f, pickle.HIGHEST_PROTOCOL)\n",
        "\n",
        "def reload(persist):\n",
        "    with open(persist, 'rb') as f:\n",
        "        # The protocol version used is detected automatically, so we do not\n",
        "        # have to specify it.\n",
        "        data = pickle.load(f)\n",
        "    return data"
      ]
    },
    {
      "cell_type": "code",
      "execution_count": null,
      "metadata": {
        "id": "oVMPTa9tkHWT"
      },
      "outputs": [],
      "source": [
        "path = \".\""
      ]
    },
    {
      "cell_type": "code",
      "execution_count": null,
      "metadata": {
        "id": "PMDsMs6wi2Qa"
      },
      "outputs": [],
      "source": [
        "class PerImageStandardization(object):\n",
        "      \"\"\"\n",
        "      per_image_whitening function equivalent in PyTorch\n",
        "      \"\"\"\n",
        "      def __call__(self, img):\n",
        "\n",
        "        adjusted_stddev = torch.max(torch.std(img), 1/torch.sqrt(torch.tensor(torch.numel(img))))\n",
        "\n",
        "        return (img-torch.mean(img))/adjusted_stddev\n",
        "        \n",
        "      def __repr__(self):\n",
        "        return self.__class__.__name__+'()' "
      ]
    },
    {
      "cell_type": "code",
      "execution_count": null,
      "metadata": {
        "colab": {
          "base_uri": "https://localhost:8080/"
        },
        "id": "YOHpFFdGj0xH",
        "outputId": "a90bfe13-0480-45bb-b0a8-b9382ef0686a"
      },
      "outputs": [],
      "source": [
        "transform = transforms.Compose(\n",
        "    [transforms.ToTensor(),\n",
        "     transforms.CenterCrop(size=28),\n",
        "     PerImageStandardization()])\n",
        "\n",
        "trainset = torchvision.datasets.CIFAR10(root=path, train=True,\n",
        "                                        download=True, transform=transform)"
      ]
    },
    {
      "cell_type": "markdown",
      "metadata": {
        "id": "5ZdA6M1NboAc"
      },
      "source": [
        "The output of torchvision datasets are PILImage images of range [0, 1].\n",
        "We transform them to Tensors of normalized range [-1, 1].\n",
        "\n"
      ]
    },
    {
      "cell_type": "markdown",
      "metadata": {
        "id": "y-BHQP61boAc"
      },
      "source": [
        "<div class=\"alert alert-info\"><h4>Note</h4><p>If running on Windows and you get a BrokenPipeError, try setting\n",
        "    the num_worker of torch.utils.data.DataLoader() to 0.</p></div>\n",
        "\n"
      ]
    },
    {
      "cell_type": "code",
      "execution_count": null,
      "metadata": {
        "colab": {
          "base_uri": "https://localhost:8080/"
        },
        "id": "pEU1bb6DboAc",
        "outputId": "28940480-d52b-46a9-fa9b-e39a3f5e6d2f"
      },
      "outputs": [],
      "source": [
        "batch_size = 16\n",
        "\n",
        "trainloader = torch.utils.data.DataLoader(trainset, batch_size=batch_size,\n",
        "                                          shuffle=True, num_workers=0)\n",
        "\n",
        "testset = torchvision.datasets.CIFAR10(root=path, train=False,\n",
        "                                       download=True, transform=transform)\n",
        "testloader = torch.utils.data.DataLoader(testset, batch_size=batch_size,\n",
        "                                         shuffle=False, num_workers=0)\n",
        "\n",
        "classes = ('plane', 'car', 'bird', 'cat',\n",
        "           'deer', 'dog', 'frog', 'horse', 'ship', 'truck')"
      ]
    },
    {
      "cell_type": "code",
      "execution_count": null,
      "metadata": {},
      "outputs": [],
      "source": [
        "device = torch.device(\"cuda:0\" if torch.cuda.is_available() else \"cpu\")\n",
        "\n",
        "# Assuming that we are on a CUDA machine, this should print a CUDA device:"
      ]
    },
    {
      "cell_type": "code",
      "execution_count": null,
      "metadata": {},
      "outputs": [],
      "source": [
        "import matplotlib.pyplot as plt\n",
        "import numpy as np\n",
        "\n",
        "# functions to show an image\n",
        "\n",
        "\n",
        "# def imshow(img):\n",
        "#     img = img / 2 + 0.5     # unnormalize\n",
        "#     npimg = img.numpy()\n",
        "#     plt.imshow(np.transpose(npimg, (1, 2, 0)))\n",
        "#     plt.show()\n",
        "\n",
        "\n",
        "# get some random training images\n",
        "dataiter = iter(trainloader)\n",
        "data = dataiter.next()\n",
        "images, labels = data[0].to(device), data[1].to(device)\n",
        "\n",
        "# show images\n",
        "# imshow(torchvision.utils.make_grid(images))\n",
        "# print labels\n",
        "print(' '.join('%5s' % classes[labels[j]] for j in range(batch_size)))"
      ]
    },
    {
      "cell_type": "code",
      "execution_count": null,
      "metadata": {
        "id": "WvA4NN3WboAf"
      },
      "outputs": [],
      "source": [
        "\n",
        "class Conv(nn.Module):\n",
        "    def __init__(self, in_channels, out_channels, kernel_size, stride, padding=0):\n",
        "        super().__init__()\n",
        "\n",
        "        #accessible attributes\n",
        "        self.out_channels = out_channels\n",
        "        self.kernel_size = kernel_size\n",
        "        self.stride = stride\n",
        "\n",
        "        self.conv = nn.Conv2d(in_channels, out_channels, kernel_size, stride, padding, padding_mode='zeros')\n",
        "        self.batch = nn.BatchNorm2d(out_channels)\n",
        "\n",
        "    def forward(self, x):\n",
        "        x = self.conv(x)\n",
        "        x = F.relu(self.batch(x))\n",
        "\n",
        "        return x\n"
      ]
    },
    {
      "cell_type": "code",
      "execution_count": null,
      "metadata": {
        "id": "_K7XfNZnJMgL"
      },
      "outputs": [],
      "source": [
        "class Inception(nn.Module):\n",
        "    def __init__(self, in_channels, ch1, ch3):\n",
        "        super().__init__()\n",
        "\n",
        "        #accessible attributes\n",
        "        self.ch1 = ch1\n",
        "        self.ch3 = ch3\n",
        "\n",
        "        self.convch1 = Conv(in_channels, ch1, 1, 1)\n",
        "        self.convch3 = Conv(in_channels, ch3, 3, 1, 1)\n",
        "        \n",
        "    def forward(self, x):\n",
        "        ch1features = self.convch1(x)\n",
        "        ch3features = self.convch3(x)\n",
        "        x = torch.cat((ch1features,ch3features),1)\n",
        "        print(\"after cat {}\".format(x.size()))\n",
        "        return x\n"
      ]
    },
    {
      "cell_type": "code",
      "execution_count": null,
      "metadata": {
        "id": "J1hFJhywLoew"
      },
      "outputs": [],
      "source": [
        "class Downsample(nn.Module):\n",
        "    def __init__(self, in_channels, ch3):\n",
        "        super().__init__()\n",
        "\n",
        "        #accessible attributes\n",
        "        self.ch3 = ch3\n",
        "\n",
        "        self.convch3 = Conv(in_channels, ch3, 3, 2)\n",
        "        self.maxpool = nn.MaxPool2d(3, 2)\n",
        "        \n",
        "    def forward(self, x):\n",
        "        ch3features = self.convch3(x)\n",
        "        x_maxpool = self.maxpool(x)\n",
        "        x = torch.cat((ch3features,x_maxpool),1)\n",
        "        return x\n"
      ]
    },
    {
      "cell_type": "code",
      "execution_count": null,
      "metadata": {
        "id": "dH0Rp4JRf6kY"
      },
      "outputs": [],
      "source": [
        "class MiniGoogleNet(nn.Module):\n",
        "    def __init__(self, in_channels, dropoutval):\n",
        "        super().__init__()\n",
        "        \n",
        "        self.dropoutval = dropoutval\n",
        "\n",
        "        self.conv_in = Conv(in_channels, 96, 3, 1)\n",
        "\n",
        "        self.inception1a = Inception(96, 32, 32)\n",
        "        self.inception1b = Inception(64, 32, 48)\n",
        "        self.downsample1 = Downsample(32+48, 80)\n",
        "\n",
        "        self.inception2a = Inception(80+32+48, 112, 48)\n",
        "        self.inception2b = Inception(112+48, 96, 64)\n",
        "        self.inception2c = Inception(96+64, 80, 80)\n",
        "        self.inception2d = Inception(160, 48, 96)\n",
        "        self.downsample2 = Downsample(48+96, 96)\n",
        "\n",
        "        self.inception3a = Inception(48+96+96, 176, 160)\n",
        "        self.inception3b = Inception(176+160, 176, 160)       \n",
        "        self.meanpool = nn.AdaptiveAvgPool2d(1) #best fit reason\n",
        "        self.dropout = nn.Dropout(self.dropoutval)\n",
        "        self.fcout = nn.Linear(176+160, 10)\n",
        "\n",
        "    def forward(self, x):\n",
        "        x = self.conv_in(x)\n",
        "\n",
        "        x = self.inception1a(x)\n",
        "        x = self.inception1b(x)\n",
        "        x = self.downsample1(x)\n",
        "\n",
        "        x = self.inception2a(x)\n",
        "        x = self.inception2b(x)\n",
        "        x = self.inception2c(x)\n",
        "        x = self.inception2d(x)\n",
        "        x = self.downsample2(x)\n",
        "\n",
        "        x = self.inception3a(x)\n",
        "        x = self.inception3b(x)\n",
        "        x = self.meanpool(x)\n",
        "        x = torch.flatten(x, 1)\n",
        "        x = self.dropout(x)\n",
        "        x = self.fcout(x)\n",
        "        return x\n"
      ]
    },
    {
      "cell_type": "markdown",
      "metadata": {
        "id": "V8wJ_7cpboAg"
      },
      "source": [
        "3. Define a Loss function and optimizer\n",
        "^^^^^^^^^^^^^^^^^^^^^^^^^^^^^^^^^^^^^^^\n",
        "Let's use a Classification Cross-Entropy loss and SGD with momentum.\n",
        "\n"
      ]
    },
    {
      "cell_type": "code",
      "execution_count": null,
      "metadata": {
        "colab": {
          "base_uri": "https://localhost:8080/"
        },
        "id": "RfNRp2rzboAg",
        "outputId": "99b602e3-73ae-4503-aa5a-f9b71575f542"
      },
      "outputs": [],
      "source": [
        "# import torch.optim as optim\n",
        "\n",
        "# criterion = nn.CrossEntropyLoss()\n",
        "# optimizer = optim.SGD(net.parameters(), lr=0.1, momentum=0.9)\n",
        "# scheduler = optim.lr_scheduler.LinearLR(optimizer, start_factor=1, end_factor=0.01, total_iters=30, last_epoch=-1, verbose=True)"
      ]
    },
    {
      "cell_type": "code",
      "execution_count": null,
      "metadata": {
        "id": "GAL14rKS7hxp"
      },
      "outputs": [],
      "source": [
        "# run_suffix = \"Dropout_0p9\"\n",
        "# writer = SummaryWriter(comment=\"_{}\".format(run_suffix))\n",
        "# writer.add_graph(net,images)"
      ]
    },
    {
      "cell_type": "markdown",
      "metadata": {
        "id": "GiuTIxjSboAh"
      },
      "source": [
        "Let's quickly save our trained model:\n",
        "\n"
      ]
    },
    {
      "cell_type": "markdown",
      "metadata": {
        "id": "rK274JVbboAh"
      },
      "source": [
        "See `here <https://pytorch.org/docs/stable/notes/serialization.html>`_\n",
        "for more details on saving PyTorch models.\n",
        "\n",
        "5. Test the network on the test data\n",
        "^^^^^^^^^^^^^^^^^^^^^^^^^^^^^^^^^^^^\n",
        "\n",
        "We have trained the network for 2 passes over the training dataset.\n",
        "But we need to check if the network has learnt anything at all.\n",
        "\n",
        "We will check this by predicting the class label that the neural network\n",
        "outputs, and checking it against the ground-truth. If the prediction is\n",
        "correct, we add the sample to the list of correct predictions.\n",
        "\n",
        "Okay, first step. Let us display an image from the test set to get familiar.\n",
        "\n"
      ]
    },
    {
      "cell_type": "markdown",
      "metadata": {
        "id": "boG1a_zQboAi"
      },
      "source": [
        "Next, let's load back in our saved model (note: saving and re-loading the model\n",
        "wasn't necessary here, we only did it to illustrate how to do so):\n",
        "\n"
      ]
    },
    {
      "cell_type": "code",
      "execution_count": null,
      "metadata": {
        "id": "rK7gyi8bboAi"
      },
      "outputs": [],
      "source": [
        "PATH='cifar_net_Dropout_0p9.pth'\n",
        "net = MiniGoogleNet(3,0.9)\n",
        "net.load_state_dict(torch.load(PATH))\n",
        "net.to(device)"
      ]
    },
    {
      "cell_type": "code",
      "execution_count": null,
      "metadata": {
        "colab": {
          "base_uri": "https://localhost:8080/"
        },
        "id": "1OtXO1YeboAj",
        "outputId": "c0e5f5e5-b72c-406d-c4ca-6668c2ff2321"
      },
      "outputs": [],
      "source": [
        "\n",
        "# since we're not training, we don't need to calculate the gradients for our outputs\n",
        "predicted = []\n",
        "actual = []\n",
        "\n",
        "with torch.no_grad():\n",
        "    for data in testloader:\n",
        "        images, labels = data[0].to(device), data[1].to(device)\n",
        "        # images, labels = data\n",
        "        # calculate outputs by running images through the network \n",
        "        outputs = net(images)\n",
        "        # the class with the highest energy is what we choose as prediction\n",
        "        _, predictedx = torch.max(outputs.data, 1)\n",
        "        actual.extend(list(labels.cpu().numpy()))\n",
        "        predicted.extend(list(predictedx.cpu().numpy()))\n",
        "\n"
      ]
    },
    {
      "cell_type": "code",
      "execution_count": null,
      "metadata": {},
      "outputs": [],
      "source": [
        "cf_matrix.make_confusion_matrix(confusion_matrix(actual,predicted,labels = range(10)), figsize= (8,8), categories = list(classes))"
      ]
    },
    {
      "cell_type": "code",
      "execution_count": null,
      "metadata": {},
      "outputs": [],
      "source": [
        "#compute class accuracy for dropout 0\n",
        "cf_d0 = confusion_matrix(actual,predicted,labels = range(10))\n",
        "cf_d0.diagonal()/cf_d0.sum(axis=1)*100"
      ]
    },
    {
      "cell_type": "code",
      "execution_count": null,
      "metadata": {},
      "outputs": [],
      "source": [
        "matthews = matthews_corrcoef(actual,predicted)"
      ]
    },
    {
      "cell_type": "code",
      "execution_count": null,
      "metadata": {},
      "outputs": [],
      "source": [
        "matthews"
      ]
    },
    {
      "cell_type": "code",
      "execution_count": null,
      "metadata": {},
      "outputs": [],
      "source": [
        "import matplotlib.pyplot as plt\n",
        "\n",
        "matthewslist = [0.8271290691971829, 0.7995527289843504, 0.8263604843121721, 0.8125826691829706, 0.7871263290339138, 0.16587725692388322]\n",
        "dropout = [0, 0.1, 0.3, 0.5, 0.7, 0.9]\n",
        "\n",
        "fig, ax = plt.subplots()  # Create a figure containing a single axes.\n",
        "ax.plot(dropout, matthewslist) \n",
        "ax.set_xlabel('dropout')\n",
        "ax.set_ylabel('matthew\\'s coefficient')\n",
        "plt.grid()\n",
        "plt.savefig(\"matthews.pdf\")\n"
      ]
    },
    {
      "cell_type": "code",
      "execution_count": null,
      "metadata": {},
      "outputs": [],
      "source": [
        "#compute f1 score\n",
        "f1_score(actual,predicted, average=None)"
      ]
    },
    {
      "cell_type": "code",
      "execution_count": null,
      "metadata": {},
      "outputs": [],
      "source": [
        "classes"
      ]
    },
    {
      "cell_type": "markdown",
      "metadata": {},
      "source": []
    },
    {
      "cell_type": "code",
      "execution_count": null,
      "metadata": {
        "colab": {
          "base_uri": "https://localhost:8080/"
        },
        "id": "ouFRErHjboAk",
        "outputId": "61714fa8-93d6-4e87-aca7-7b26358d0c14"
      },
      "outputs": [],
      "source": [
        "# # prepare to count predictions for each class\n",
        "# correct_pred = {classname: 0 for classname in classes}\n",
        "# total_pred = {classname: 0 for classname in classes}\n",
        "\n",
        "# # again no gradients needed\n",
        "# with torch.no_grad():\n",
        "#     for data in testloader:\n",
        "#         # images, labels = data    \n",
        "#         images, labels = data[0].to(device), data[1].to(device)\n",
        "#         outputs = net(images)    \n",
        "#         _, predictions = torch.max(outputs, 1)\n",
        "#         # collect the correct predictions for each class\n",
        "#         for label, prediction in zip(labels, predictions):\n",
        "#             if label == prediction:\n",
        "#                 correct_pred[classes[label]] += 1\n",
        "#             total_pred[classes[label]] += 1\n",
        "\n",
        "  \n",
        "# # print accuracy for each class\n",
        "# for classname, correct_count in correct_pred.items():\n",
        "#     accuracy = 100 * float(correct_count) / total_pred[classname]\n",
        "#     print(\"Accuracy for class {:5s} is: {:.1f} %\".format(classname, \n",
        "#                                                    accuracy))"
      ]
    },
    {
      "cell_type": "code",
      "execution_count": null,
      "metadata": {
        "id": "ks4BJfFXboAk"
      },
      "outputs": [],
      "source": []
    }
  ],
  "metadata": {
    "accelerator": "GPU",
    "colab": {
      "collapsed_sections": [],
      "include_colab_link": true,
      "name": "train_valid.ipynb",
      "provenance": []
    },
    "kernelspec": {
      "display_name": "Python 3",
      "language": "python",
      "name": "python3"
    },
    "language_info": {
      "codemirror_mode": {
        "name": "ipython",
        "version": 3
      },
      "file_extension": ".py",
      "mimetype": "text/x-python",
      "name": "python",
      "nbconvert_exporter": "python",
      "pygments_lexer": "ipython3",
      "version": "3.7.11"
    }
  },
  "nbformat": 4,
  "nbformat_minor": 0
}
